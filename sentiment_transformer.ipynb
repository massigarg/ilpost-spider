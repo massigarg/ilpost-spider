{
 "cells": [
  {
   "cell_type": "code",
   "execution_count": 2,
   "metadata": {},
   "outputs": [],
   "source": [
    "import pandas as pd\n",
    "from nltk.corpus import stopwords\n",
    "from nltk.tokenize import word_tokenize\n",
    "from transformers import AutoTokenizer, AutoModelForSequenceClassification\n",
    "import torch\n",
    "import spacy\n",
    "# ! python -m spacy download it_core_news_sm\n",
    "nlp = spacy.load(\"it_core_news_sm\")\n",
    "from sklearn.preprocessing import MinMaxScaler"
   ]
  },
  {
   "cell_type": "code",
   "execution_count": 59,
   "metadata": {},
   "outputs": [],
   "source": [
    "df = pd.read_csv(\"ilpost.csv\", parse_dates=[\"date\"])"
   ]
  },
  {
   "cell_type": "code",
   "execution_count": 56,
   "metadata": {},
   "outputs": [
    {
     "name": "stdout",
     "output_type": "stream",
     "text": [
      "<class 'pandas.core.frame.DataFrame'>\n",
      "RangeIndex: 11441 entries, 0 to 11440\n",
      "Data columns (total 5 columns):\n",
      " #   Column    Non-Null Count  Dtype         \n",
      "---  ------    --------------  -----         \n",
      " 0   headline  11441 non-null  object        \n",
      " 1   summary   11441 non-null  object        \n",
      " 2   category  11441 non-null  object        \n",
      " 3   tag       11398 non-null  object        \n",
      " 4   date      11441 non-null  datetime64[ns]\n",
      "dtypes: datetime64[ns](1), object(4)\n",
      "memory usage: 447.0+ KB\n"
     ]
    }
   ],
   "source": [
    "df.info()"
   ]
  },
  {
   "cell_type": "code",
   "execution_count": 60,
   "metadata": {},
   "outputs": [],
   "source": [
    "df.dropna(inplace=True)"
   ]
  },
  {
   "cell_type": "markdown",
   "metadata": {},
   "source": [
    "## Data Preprocessing"
   ]
  },
  {
   "cell_type": "code",
   "execution_count": 61,
   "metadata": {},
   "outputs": [],
   "source": [
    "#making category and tag as type list\n",
    "df[\"category\"] = df[\"category\"].apply(lambda x: x.split(\",\"))\n",
    "df[\"tag\"] = df[\"tag\"].apply(lambda x: x.split(\",\"))"
   ]
  },
  {
   "cell_type": "code",
   "execution_count": 62,
   "metadata": {},
   "outputs": [
    {
     "data": {
      "text/html": [
       "<div>\n",
       "<style scoped>\n",
       "    .dataframe tbody tr th:only-of-type {\n",
       "        vertical-align: middle;\n",
       "    }\n",
       "\n",
       "    .dataframe tbody tr th {\n",
       "        vertical-align: top;\n",
       "    }\n",
       "\n",
       "    .dataframe thead th {\n",
       "        text-align: right;\n",
       "    }\n",
       "</style>\n",
       "<table border=\"1\" class=\"dataframe\">\n",
       "  <thead>\n",
       "    <tr style=\"text-align: right;\">\n",
       "      <th></th>\n",
       "      <th>headline</th>\n",
       "      <th>summary</th>\n",
       "      <th>category</th>\n",
       "      <th>tag</th>\n",
       "      <th>date</th>\n",
       "    </tr>\n",
       "  </thead>\n",
       "  <tbody>\n",
       "    <tr>\n",
       "      <th>0</th>\n",
       "      <td>L’esercito continua a sparare cannonate nel ma...</td>\n",
       "      <td>Da oltre 20 anni le associazioni ambientalist...</td>\n",
       "      <td>[italia]</td>\n",
       "      <td>[esercito-italiano, pianeta, punta-bianca, sic...</td>\n",
       "      <td>2022-02-04</td>\n",
       "    </tr>\n",
       "    <tr>\n",
       "      <th>1</th>\n",
       "      <td>I dati sul coronavirus in Italia di giovedì 3 ...</td>\n",
       "      <td></td>\n",
       "      <td>[bits, italia]</td>\n",
       "      <td>[coronavirus, coronavirus-italia, covid-19]</td>\n",
       "      <td>2022-02-03</td>\n",
       "    </tr>\n",
       "    <tr>\n",
       "      <th>2</th>\n",
       "      <td>Da venerdì 4 febbraio in Italia sarà distribui...</td>\n",
       "      <td></td>\n",
       "      <td>[bits, italia]</td>\n",
       "      <td>[coronavirus, covid-19, paxlovid]</td>\n",
       "      <td>2022-02-03</td>\n",
       "    </tr>\n",
       "    <tr>\n",
       "      <th>3</th>\n",
       "      <td>Il comune di Napoli deve abbattere una scuola ...</td>\n",
       "      <td>Nel 2010 fu costruita senza permessi in un'ar...</td>\n",
       "      <td>[italia]</td>\n",
       "      <td>[camaldoli, chiaiano, luigi-de-magistris, napo...</td>\n",
       "      <td>2022-02-03</td>\n",
       "    </tr>\n",
       "    <tr>\n",
       "      <th>4</th>\n",
       "      <td>I dati della settimana su coronavirus e vaccin...</td>\n",
       "      <td>Il calo dei ricoveri in terapia intensiva e d...</td>\n",
       "      <td>[italia]</td>\n",
       "      <td>[coronavirus, covid-19, dati-coronavirus, vacc...</td>\n",
       "      <td>2022-02-03</td>\n",
       "    </tr>\n",
       "  </tbody>\n",
       "</table>\n",
       "</div>"
      ],
      "text/plain": [
       "                                            headline  \\\n",
       "0  L’esercito continua a sparare cannonate nel ma...   \n",
       "1  I dati sul coronavirus in Italia di giovedì 3 ...   \n",
       "2  Da venerdì 4 febbraio in Italia sarà distribui...   \n",
       "3  Il comune di Napoli deve abbattere una scuola ...   \n",
       "4  I dati della settimana su coronavirus e vaccin...   \n",
       "\n",
       "                                             summary        category  \\\n",
       "0   Da oltre 20 anni le associazioni ambientalist...        [italia]   \n",
       "1                                                     [bits, italia]   \n",
       "2                                                     [bits, italia]   \n",
       "3   Nel 2010 fu costruita senza permessi in un'ar...        [italia]   \n",
       "4   Il calo dei ricoveri in terapia intensiva e d...        [italia]   \n",
       "\n",
       "                                                 tag       date  \n",
       "0  [esercito-italiano, pianeta, punta-bianca, sic... 2022-02-04  \n",
       "1        [coronavirus, coronavirus-italia, covid-19] 2022-02-03  \n",
       "2                  [coronavirus, covid-19, paxlovid] 2022-02-03  \n",
       "3  [camaldoli, chiaiano, luigi-de-magistris, napo... 2022-02-03  \n",
       "4  [coronavirus, covid-19, dati-coronavirus, vacc... 2022-02-03  "
      ]
     },
     "execution_count": 62,
     "metadata": {},
     "output_type": "execute_result"
    }
   ],
   "source": [
    "df.head()"
   ]
  },
  {
   "cell_type": "code",
   "execution_count": 63,
   "metadata": {},
   "outputs": [],
   "source": [
    "#creating new feature corpus\n",
    "df[\"corpus\"] = df[\"headline\"]+df[\"summary\"]"
   ]
  },
  {
   "cell_type": "code",
   "execution_count": 64,
   "metadata": {},
   "outputs": [
    {
     "data": {
      "text/plain": [
       "'L’esercito continua a sparare cannonate nel mare di Punta Bianca Da oltre 20 anni le associazioni ambientaliste chiedono di dismettere il poligono siciliano che si trova in mezzo a una riserva naturale'"
      ]
     },
     "execution_count": 64,
     "metadata": {},
     "output_type": "execute_result"
    }
   ],
   "source": [
    "df.head()[\"corpus\"][0]"
   ]
  },
  {
   "cell_type": "code",
   "execution_count": 65,
   "metadata": {},
   "outputs": [],
   "source": [
    "tokenizer = AutoTokenizer.from_pretrained(\"nlptown/bert-base-multilingual-uncased-sentiment\")\n",
    "\n",
    "model = AutoModelForSequenceClassification.from_pretrained(\"nlptown/bert-base-multilingual-uncased-sentiment\")\n",
    "def sentiment(text):\n",
    "    \"\"\"This function creates the sentiment score for each news\n",
    "\n",
    "    Args:\n",
    "        text (str): news text\n",
    "\n",
    "    Returns:\n",
    "        int: score from 1 to 5\n",
    "    \"\"\"\n",
    "    tokens= tokenizer.encode(text, return_tensors=\"pt\")\n",
    "    result = model(tokens)\n",
    "    return int(torch.argmax(result.logits))+1"
   ]
  },
  {
   "cell_type": "code",
   "execution_count": 66,
   "metadata": {},
   "outputs": [],
   "source": [
    "# df[\"sentiment\"] = df[\"corpus\"].apply(sentiment)\n",
    "# df.to_csv(\"ipost_sentiment.csv\")"
   ]
  },
  {
   "cell_type": "code",
   "execution_count": 3,
   "metadata": {},
   "outputs": [],
   "source": [
    "df = pd.read_csv(\"ilpost_sentiment.csv\", parse_dates=[\"date\"])"
   ]
  },
  {
   "cell_type": "code",
   "execution_count": 4,
   "metadata": {},
   "outputs": [],
   "source": [
    "#scaling sentiment score from -1 to 1\n",
    "scaler = MinMaxScaler(feature_range=(-1,1))\n",
    "df[\"sentiment\"] = scaler.fit_transform(df[\"sentiment\"].to_frame())"
   ]
  },
  {
   "cell_type": "code",
   "execution_count": 5,
   "metadata": {},
   "outputs": [],
   "source": [
    "#creating lemmatized text feature\n",
    "def text_cleaner(text):\n",
    "    \"\"\"\n",
    "    This function preprocess the text returning a string.\n",
    "    \n",
    "    It applies the following steps in this order: \n",
    "    punctuation removal, tokenization, removal of stop words, lemmatization.\n",
    "    \n",
    "    Args:\n",
    "        text (str): text to be preprocessed\n",
    "\n",
    "    Returns:\n",
    "        str: processed text\n",
    "    \"\"\"\n",
    "    \n",
    "    try:\n",
    "        \n",
    "        if type(text)==int or type(text)==float and not np.isnan(text):\n",
    "            text=str(text)\n",
    "            \n",
    "        tokens = word_tokenize(text)\n",
    "        stop_words = stopwords.words(\"italian\")\n",
    "        stop_words.extend([\"’\", \"‘\",\"“\", \"”\", \",\", \".\", \"(\", \")\", \":\"])\n",
    "        filtered_text = \" \".join([word.rstrip().lstrip().lower() for word in tokens if word.lower() not in stop_words])\n",
    "        filtered_text = nlp(filtered_text)\n",
    "        lemmatized_text = \" \".join([word.lemma_ for word in filtered_text ])\n",
    "    \n",
    "        return lemmatized_text\n",
    "        \n",
    "    except Exception as e:\n",
    "        print(\"Sorry\", e)\n",
    "        return None"
   ]
  },
  {
   "cell_type": "code",
   "execution_count": 6,
   "metadata": {},
   "outputs": [],
   "source": [
    "df[\"lemma_corpus\"] = df[\"corpus\"].apply(text_cleaner)"
   ]
  },
  {
   "cell_type": "code",
   "execution_count": null,
   "metadata": {},
   "outputs": [
    {
     "data": {
      "text/html": [
       "<div>\n",
       "<style scoped>\n",
       "    .dataframe tbody tr th:only-of-type {\n",
       "        vertical-align: middle;\n",
       "    }\n",
       "\n",
       "    .dataframe tbody tr th {\n",
       "        vertical-align: top;\n",
       "    }\n",
       "\n",
       "    .dataframe thead th {\n",
       "        text-align: right;\n",
       "    }\n",
       "</style>\n",
       "<table border=\"1\" class=\"dataframe\">\n",
       "  <thead>\n",
       "    <tr style=\"text-align: right;\">\n",
       "      <th></th>\n",
       "      <th>headline</th>\n",
       "      <th>summary</th>\n",
       "      <th>category</th>\n",
       "      <th>tag</th>\n",
       "      <th>date</th>\n",
       "      <th>corpus</th>\n",
       "      <th>sentiment</th>\n",
       "      <th>lemma_corpus</th>\n",
       "    </tr>\n",
       "  </thead>\n",
       "  <tbody>\n",
       "    <tr>\n",
       "      <th>0</th>\n",
       "      <td>I dati sul coronavirus in Italia di oggi, giov...</td>\n",
       "      <td>Nelle ultime 24 ore in Italia sono stati rile...</td>\n",
       "      <td>[bits, italia]</td>\n",
       "      <td>[coronavirus, coronavirus-italia, covid-19]</td>\n",
       "      <td>2022-02-03</td>\n",
       "      <td>I dati sul coronavirus in Italia di oggi, giov...</td>\n",
       "      <td>-1.0</td>\n",
       "      <td>dato coronavirus italia oggi giovedì 3 febbrai...</td>\n",
       "    </tr>\n",
       "    <tr>\n",
       "      <th>1</th>\n",
       "      <td>Da venerdì 4 febbraio in Italia sarà distribui...</td>\n",
       "      <td></td>\n",
       "      <td>[bits, italia]</td>\n",
       "      <td>[coronavirus, covid-19, paxlovid]</td>\n",
       "      <td>2022-02-03</td>\n",
       "      <td>Da venerdì 4 febbraio in Italia sarà distribui...</td>\n",
       "      <td>-1.0</td>\n",
       "      <td>venerdì 4 febbraio italia distribuire paxlovid...</td>\n",
       "    </tr>\n",
       "    <tr>\n",
       "      <th>2</th>\n",
       "      <td>Il comune di Napoli deve abbattere una scuola ...</td>\n",
       "      <td>Nel 2010 fu costruita senza permessi in un'ar...</td>\n",
       "      <td>[italia]</td>\n",
       "      <td>[camaldoli, chiaiano, luigi-de-magistris, napo...</td>\n",
       "      <td>2022-02-03</td>\n",
       "      <td>Il comune di Napoli deve abbattere una scuola ...</td>\n",
       "      <td>-1.0</td>\n",
       "      <td>comune napoli dovere abbattere scuola nuovo 20...</td>\n",
       "    </tr>\n",
       "    <tr>\n",
       "      <th>3</th>\n",
       "      <td>I dati della settimana su coronavirus e vaccin...</td>\n",
       "      <td>Il calo dei ricoveri in terapia intensiva e d...</td>\n",
       "      <td>[italia]</td>\n",
       "      <td>[coronavirus, covid-19, dati-coronavirus, vacc...</td>\n",
       "      <td>2022-02-03</td>\n",
       "      <td>I dati della settimana su coronavirus e vaccin...</td>\n",
       "      <td>1.0</td>\n",
       "      <td>dato settimana coronavirus vaccinazione italia...</td>\n",
       "    </tr>\n",
       "    <tr>\n",
       "      <th>4</th>\n",
       "      <td>Cosa ha deciso il governo su colori delle regi...</td>\n",
       "      <td>Le regole per eventuali zone rosse riguardera...</td>\n",
       "      <td>[italia]</td>\n",
       "      <td>[coronavirus, covid-19, green-pass, terza-dose]</td>\n",
       "      <td>2022-02-02</td>\n",
       "      <td>Cosa ha deciso il governo su colori delle regi...</td>\n",
       "      <td>0.0</td>\n",
       "      <td>cosa deciso governo colore regione green pass ...</td>\n",
       "    </tr>\n",
       "  </tbody>\n",
       "</table>\n",
       "</div>"
      ],
      "text/plain": [
       "                                            headline  \\\n",
       "0  I dati sul coronavirus in Italia di oggi, giov...   \n",
       "1  Da venerdì 4 febbraio in Italia sarà distribui...   \n",
       "2  Il comune di Napoli deve abbattere una scuola ...   \n",
       "3  I dati della settimana su coronavirus e vaccin...   \n",
       "4  Cosa ha deciso il governo su colori delle regi...   \n",
       "\n",
       "                                             summary        category  \\\n",
       "0   Nelle ultime 24 ore in Italia sono stati rile...  [bits, italia]   \n",
       "1                                                     [bits, italia]   \n",
       "2   Nel 2010 fu costruita senza permessi in un'ar...        [italia]   \n",
       "3   Il calo dei ricoveri in terapia intensiva e d...        [italia]   \n",
       "4   Le regole per eventuali zone rosse riguardera...        [italia]   \n",
       "\n",
       "                                                 tag       date  \\\n",
       "0        [coronavirus, coronavirus-italia, covid-19] 2022-02-03   \n",
       "1                  [coronavirus, covid-19, paxlovid] 2022-02-03   \n",
       "2  [camaldoli, chiaiano, luigi-de-magistris, napo... 2022-02-03   \n",
       "3  [coronavirus, covid-19, dati-coronavirus, vacc... 2022-02-03   \n",
       "4    [coronavirus, covid-19, green-pass, terza-dose] 2022-02-02   \n",
       "\n",
       "                                              corpus  sentiment  \\\n",
       "0  I dati sul coronavirus in Italia di oggi, giov...       -1.0   \n",
       "1  Da venerdì 4 febbraio in Italia sarà distribui...       -1.0   \n",
       "2  Il comune di Napoli deve abbattere una scuola ...       -1.0   \n",
       "3  I dati della settimana su coronavirus e vaccin...        1.0   \n",
       "4  Cosa ha deciso il governo su colori delle regi...        0.0   \n",
       "\n",
       "                                        lemma_corpus  \n",
       "0  dato coronavirus italia oggi giovedì 3 febbrai...  \n",
       "1  venerdì 4 febbraio italia distribuire paxlovid...  \n",
       "2  comune napoli dovere abbattere scuola nuovo 20...  \n",
       "3  dato settimana coronavirus vaccinazione italia...  \n",
       "4  cosa deciso governo colore regione green pass ...  "
      ]
     },
     "execution_count": 52,
     "metadata": {},
     "output_type": "execute_result"
    }
   ],
   "source": [
    "df.head()"
   ]
  }
 ],
 "metadata": {
  "interpreter": {
   "hash": "fd3ebe8b08a5a4c91960425c1cc8c2fe9846bb9db7caf9a63d453eb6a8969daa"
  },
  "kernelspec": {
   "display_name": "Python 3.8.10 64-bit ('venv': venv)",
   "language": "python",
   "name": "python3"
  },
  "language_info": {
   "codemirror_mode": {
    "name": "ipython",
    "version": 3
   },
   "file_extension": ".py",
   "mimetype": "text/x-python",
   "name": "python",
   "nbconvert_exporter": "python",
   "pygments_lexer": "ipython3",
   "version": "3.9.7"
  },
  "orig_nbformat": 4
 },
 "nbformat": 4,
 "nbformat_minor": 2
}
